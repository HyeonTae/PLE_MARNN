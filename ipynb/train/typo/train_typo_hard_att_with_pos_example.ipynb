{
 "cells": [
  {
   "cell_type": "markdown",
   "metadata": {},
   "source": [
    "# Set Parameter\n",
    "- Attention = True\n",
    "- Teacher Forcing Ratio = 0.5\n",
    "- Dropout = 0.2\n",
    "- Layer = 2\n",
    "- Embedding size = 10\n",
    "- Batch size = 128\n",
    "- Learning rate = 0.001\n",
    "- Hidden unit = 300\n",
    "- Epochs = 100\n",
    "- Data = ids"
   ]
  },
  {
   "cell_type": "markdown",
   "metadata": {},
   "source": [
    "# Import packages\n",
    "\n",
    "import useful packages for experiments"
   ]
  },
  {
   "cell_type": "code",
   "execution_count": null,
   "metadata": {},
   "outputs": [],
   "source": [
    "import os\n",
    "import argparse\n",
    "import logging\n",
    "import sys\n",
    "import json\n",
    "import numpy as np\n",
    "\n",
    "import torch\n",
    "from torch.optim.lr_scheduler import StepLR\n",
    "import torchtext\n",
    "\n",
    "os.environ[\"CUDA_VISIBLE_DEVICES\"]=\"0\"\n",
    "os.chdir(os.path.dirname(os.path.abspath(os.path.dirname(os.path.abspath(os.path.dirname(os.path.abspath(os.path.dirname('__file__'))))))))\n",
    "\n",
    "from models.trainer import Trainer\n",
    "from models.seq2seq import Seq2seq\n",
    "from loss.loss import Perplexity\n",
    "from dataset import fields\n",
    "\n",
    "import matplotlib.pyplot as plt"
   ]
  },
  {
   "cell_type": "markdown",
   "metadata": {},
   "source": [
    "# Log format"
   ]
  },
  {
   "cell_type": "code",
   "execution_count": null,
   "metadata": {},
   "outputs": [],
   "source": [
    "log_level = 'info'\n",
    "LOG_FORMAT = '%(asctime)s %(levelname)-6s %(message)s'\n",
    "logging.basicConfig(format=LOG_FORMAT, level=getattr(logging, log_level.upper()))"
   ]
  },
  {
   "cell_type": "code",
   "execution_count": null,
   "metadata": {},
   "outputs": [],
   "source": [
    "character_accuracy = []\n",
    "sentence_accuracy = []\n",
    "f1_score = []\n",
    "best_f1_score = []\n",
    "rnn = \"lstm\"\n",
    "data_name = \"typo\"\n",
    "pretrained_dir_name = None\n",
    "iterator = list(range(1,6,1))\n",
    "epochs = 100\n",
    "\n",
    "train_path = \"data/network_inputs/iitk-\"+data_name+\"-1189\"+\"/data_train_edit.txt\"\n",
    "dev_path = \"data/network_inputs/iitk-\"+data_name+\"-1189\"+\"/data_val_edit.txt\"\n",
    "\n",
    "config_path = \"models/config.json\""
   ]
  },
  {
   "cell_type": "markdown",
   "metadata": {},
   "source": [
    "# Prepare dataset"
   ]
  },
  {
   "cell_type": "code",
   "execution_count": null,
   "metadata": {
    "scrolled": true
   },
   "outputs": [],
   "source": [
    "for i in iterator:\n",
    "        print(\"rnn : %s\" % rnn)\n",
    "        max_len = 400\n",
    "        src = fields.SourceField()\n",
    "        srcp = fields.SourceField()\n",
    "        tgt = fields.TargetField()\n",
    "        tgtp = fields.TargetField()\n",
    "        def len_filter(example):\n",
    "            return len(example.src) <= max_len and len(example.tgt) <= max_len\n",
    "        train = torchtext.data.TabularDataset(\n",
    "            path=train_path, format='tsv',\n",
    "            fields=[('src', src), ('tgt', tgt)],\n",
    "            filter_pred=len_filter\n",
    "        )\n",
    "        dev = torchtext.data.TabularDataset(\n",
    "            path=dev_path, format='tsv',\n",
    "            fields=[('src', src), ('tgt', tgt)],\n",
    "            filter_pred=len_filter\n",
    "        )\n",
    "        src.build_vocab(train)\n",
    "        tgt.build_vocab(train)\n",
    "        input_vocab = src.vocab\n",
    "        output_vocab = tgt.vocab\n",
    "\n",
    "        print(\"src vocab size = %d\" % (len(src.vocab)))\n",
    "        print(\"tat vacab size = %d\" % (len(tgt.vocab)))\n",
    "\n",
    "        weight = torch.ones(len(tgt.vocab))\n",
    "        pad = tgt.vocab.stoi[tgt.pad_token]\n",
    "        loss = Perplexity(weight, pad)\n",
    "        if torch.cuda.is_available():\n",
    "            loss.cuda()\n",
    "\n",
    "        optimizer = \"Adam\"\n",
    "        seq2seq = None\n",
    "        config_json = open(config_path).read()\n",
    "        config = json.loads(config_json)\n",
    "        config[\"max_len\"] = max_len\n",
    "        config[\"hidden_size\"] = 300\n",
    "        config[\"rnn_cell\"] = rnn\n",
    "        config[\"n_layers\"] = 2\n",
    "        config[\"dropout_p\"] = 0.2\n",
    "        config[\"embedding_size\"] = 10\n",
    "        config[\"use_attention\"] = True\n",
    "        config[\"hard_attn\"] = True\n",
    "        config[\"position_embedding\"] = \"length\"\n",
    "        config[\"use_memory\"] = None\n",
    "        #config[\"seed\"]= 1189\n",
    "        config[\"pos_add\"] = \"cat\"\n",
    "\n",
    "        print(json.dumps(config, indent=4))\n",
    "\n",
    "        save_path = (data_name\n",
    "                        + ({config[\"use_attention\"]: \"_att\", config[\"use_attention\"]\n",
    "                            and config[\"hard_attn\"]: \"_hard_att\"}.get(True, \"\"))\n",
    "                        + (\"_with_pos_\" + config[\"position_embedding\"] if config[\"position_embedding\"] is not None else \"\")\n",
    "                        + (\"_cat\" if config[\"pos_add\"] == \"cat\" else \"\")\n",
    "                        + (\"_use_stack\" if config[\"use_memory\"] == \"stack\" else \"\")\n",
    "                        + (\"_use_queue\" if config[\"use_memory\"] == \"queue\" else \"\")\n",
    "                        + \"_emb\" + str(config[\"embedding_size\"])\n",
    "                        + \"_hidden\" + str(config[\"hidden_size\"])\n",
    "                        + (\"_pretrained\" if pretrained_dir_name is not None else \"\"))\n",
    "        print(\"Save_path : %s\" % save_path)\n",
    "        \n",
    "        if pretrained_dir_name is not None:\n",
    "            pretrained_path = (\"pretrained_weights/\"+ data_name + \"_\" + pretrained_dir_name\n",
    "                        + ({config[\"use_attention\"]: \"_att\", config[\"use_attention\"]\n",
    "                            and config[\"hard_attn\"]: \"_hard_att\"}.get(True, \"\"))\n",
    "                        + (\"_with_pos_\" + config[\"position_embedding\"] if config[\"position_embedding\"] is not None else \"\")\n",
    "                        + (\"_cat\" if config[\"pos_add\"] == \"cat\" else \"\")\n",
    "                        + (\"_use_stack\" if config[\"use_memory\"] == \"stack\" else \"\")\n",
    "                        + (\"_use_queue\" if config[\"use_memory\"] == \"queue\" else \"\")\n",
    "                        + \"_emb\" + str(config[\"embedding_size\"])\n",
    "                        + \"_hidden\" + str(config[\"hidden_size\"])\n",
    "                        + \"_\"+rnn+\"_\"+str(i))\n",
    "            pretrained_pos_weight = np.load(pretrained_path+\"/encoder_pos_weight.npy\")\n",
    "            seq2seq = Seq2seq(config, vocab_size, vocab_size, sos_id, eos_id,\n",
    "                              pretrained_pos_weight)\n",
    "        else :\n",
    "            seq2seq = Seq2seq(config, len(src.vocab), tgt.vocab, tgt.sos_id, tgt.eos_id)\n",
    "        \n",
    "        if torch.cuda.is_available():\n",
    "            seq2seq.cuda()\n",
    "\n",
    "        for param in seq2seq.parameters():\n",
    "            param.data.uniform_(-0.08, 0.08)\n",
    "\n",
    "        # train\n",
    "        t = Trainer(loss=loss, batch_size=128,\n",
    "                    learning_rate=0.001,\n",
    "                    checkpoint_every=50,\n",
    "                    print_every=100,\n",
    "                    hidden_size=config[\"hidden_size\"],\n",
    "                    path=save_path,\n",
    "                    file_name=config[\"rnn_cell\"] + \"_\" + str(i))\n",
    "\n",
    "        seq2seq, ave_loss, character_accuracy_list, sentence_accuracy_list, f1_score_list = t.train(seq2seq, train,\n",
    "                                                                                 num_epochs=epochs, dev_data=dev,\n",
    "                                                                                 optimizer=optimizer,\n",
    "                                                                                 teacher_forcing_ratio=0.5)\n",
    "\n",
    "        character_accuracy.append(character_accuracy_list)\n",
    "        sentence_accuracy.append(sentence_accuracy_list)\n",
    "        f1_score.append(f1_score_list)\n",
    "        best_f1_score.append(max(f1_score_list))"
   ]
  },
  {
   "cell_type": "code",
   "execution_count": null,
   "metadata": {},
   "outputs": [],
   "source": [
    "plt.figure(figsize=(15,7))\n",
    "for j in range(len(sentence_accuracy)):\n",
    "    plt.plot(list(range(1, len(sentence_accuracy[j])+1, 1))[::3], sentence_accuracy[j][::3], '-', LineWidth=3, label=str(j+1))\n",
    "\n",
    "plt.legend(loc=\"best\", fontsize=12)\n",
    "plt.title(data_name+\"_\"+rnn, fontsize=24)\n",
    "plt.xlabel('Epoch', fontsize=24)\n",
    "plt.ylabel('Sentence Accuracy', fontsize=24)\n",
    "plt.ylim([0, 1.02])\n",
    "plt.grid()\n",
    "#plt.savefig('')"
   ]
  },
  {
   "cell_type": "code",
   "execution_count": null,
   "metadata": {},
   "outputs": [],
   "source": [
    "plt.figure(figsize=(15,7))\n",
    "for j in range(len(f1_score)):\n",
    "    plt.plot(list(range(1, len(f1_score[j])+1, 1))[::3], f1_score[j][::3], '-', LineWidth=3, label=str(j+1))\n",
    "\n",
    "plt.legend(loc=\"best\", fontsize=12)\n",
    "plt.title(data_name+\"_\"+rnn, fontsize=24)\n",
    "plt.xlabel('Epoch', fontsize=24)\n",
    "plt.ylabel('F1 Score', fontsize=24)\n",
    "plt.ylim([0, 1.02])\n",
    "plt.grid()\n",
    "#plt.savefig('')"
   ]
  },
  {
   "cell_type": "code",
   "execution_count": null,
   "metadata": {},
   "outputs": [],
   "source": [
    "plt.figure(figsize=(15,7))\n",
    "plt.plot(list(range(1, len(best_f1_score)+1)), best_f1_score, '-', LineWidth=3, label=\"Best F1 Score\")\n",
    "\n",
    "plt.legend(loc=\"best\", fontsize=12)\n",
    "plt.xlabel('Numer of Iterations', fontsize=24)\n",
    "plt.title(data_name+\"_\"+rnn, fontsize=24)\n",
    "plt.ylabel('F1 Score', fontsize=24)\n",
    "plt.ylim([0, 1.02])\n",
    "plt.grid()\n",
    "#plt.savefig('')"
   ]
  },
  {
   "cell_type": "code",
   "execution_count": null,
   "metadata": {
    "scrolled": true
   },
   "outputs": [],
   "source": [
    "print(f1_score)"
   ]
  },
  {
   "cell_type": "code",
   "execution_count": null,
   "metadata": {},
   "outputs": [],
   "source": [
    "print(best_f1_score)"
   ]
  },
  {
   "cell_type": "code",
   "execution_count": null,
   "metadata": {},
   "outputs": [],
   "source": [
    "print(sum(best_f1_score, 0.0)/len(best_f1_score))"
   ]
  },
  {
   "cell_type": "markdown",
   "metadata": {},
   "source": []
  }
 ],
 "metadata": {
  "kernelspec": {
   "display_name": "Python 3",
   "language": "python",
   "name": "python3"
  },
  "language_info": {
   "codemirror_mode": {
    "name": "ipython",
    "version": 3
   },
   "file_extension": ".py",
   "mimetype": "text/x-python",
   "name": "python",
   "nbconvert_exporter": "python",
   "pygments_lexer": "ipython3",
   "version": "3.6.7"
  }
 },
 "nbformat": 4,
 "nbformat_minor": 2
}
